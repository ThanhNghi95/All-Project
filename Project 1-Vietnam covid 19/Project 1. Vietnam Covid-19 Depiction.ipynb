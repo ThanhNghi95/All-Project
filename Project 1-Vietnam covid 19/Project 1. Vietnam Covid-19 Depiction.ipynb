{
 "cells": [
  {
   "cell_type": "markdown",
   "id": "22a0e581",
   "metadata": {},
   "source": [
    "# TOTAL CASES"
   ]
  },
  {
   "cell_type": "code",
   "execution_count": 1,
   "id": "7e5c04b4",
   "metadata": {},
   "outputs": [],
   "source": [
    "import pandas as pd\n",
    "import numpy as np\n",
    "import matplotlib.pyplot as plt\n"
   ]
  },
  {
   "cell_type": "code",
   "execution_count": 2,
   "id": "86a86479",
   "metadata": {},
   "outputs": [],
   "source": [
    "data=pd.read_csv('Final.csv')"
   ]
  },
  {
   "cell_type": "code",
   "execution_count": 3,
   "id": "1ed1b611",
   "metadata": {
    "scrolled": true
   },
   "outputs": [
    {
     "data": {
      "text/html": [
       "<div>\n",
       "<style scoped>\n",
       "    .dataframe tbody tr th:only-of-type {\n",
       "        vertical-align: middle;\n",
       "    }\n",
       "\n",
       "    .dataframe tbody tr th {\n",
       "        vertical-align: top;\n",
       "    }\n",
       "\n",
       "    .dataframe thead th {\n",
       "        text-align: right;\n",
       "    }\n",
       "</style>\n",
       "<table border=\"1\" class=\"dataframe\">\n",
       "  <thead>\n",
       "    <tr style=\"text-align: right;\">\n",
       "      <th></th>\n",
       "      <th>Tỉnh/TP</th>\n",
       "      <th>Tổng số ca</th>\n",
       "      <th>Hôm nay</th>\n",
       "      <th>Tử vong</th>\n",
       "      <th>Diện tích (km²)</th>\n",
       "      <th>Dân số (người)</th>\n",
       "      <th>Vĩ độ</th>\n",
       "      <th>Kinh độ</th>\n",
       "    </tr>\n",
       "  </thead>\n",
       "  <tbody>\n",
       "    <tr>\n",
       "      <th>0</th>\n",
       "      <td>An Giang</td>\n",
       "      <td>2373</td>\n",
       "      <td>88.0</td>\n",
       "      <td>4</td>\n",
       "      <td>3536</td>\n",
       "      <td>1864651</td>\n",
       "      <td>10.507203</td>\n",
       "      <td>105.117695</td>\n",
       "    </tr>\n",
       "    <tr>\n",
       "      <th>1</th>\n",
       "      <td>Bà Rịa - Vũng Tàu</td>\n",
       "      <td>3869</td>\n",
       "      <td>22.0</td>\n",
       "      <td>32</td>\n",
       "      <td>1980</td>\n",
       "      <td>1181302</td>\n",
       "      <td>10.483384</td>\n",
       "      <td>107.124514</td>\n",
       "    </tr>\n",
       "    <tr>\n",
       "      <th>2</th>\n",
       "      <td>Bắc Giang</td>\n",
       "      <td>588</td>\n",
       "      <td>1.0</td>\n",
       "      <td>13</td>\n",
       "      <td>3851</td>\n",
       "      <td>1858540</td>\n",
       "      <td>21.281595</td>\n",
       "      <td>106.200434</td>\n",
       "    </tr>\n",
       "    <tr>\n",
       "      <th>3</th>\n",
       "      <td>Bắc Kạn</td>\n",
       "      <td>7</td>\n",
       "      <td>0.0</td>\n",
       "      <td>0</td>\n",
       "      <td>4860</td>\n",
       "      <td>318083</td>\n",
       "      <td>22.421294</td>\n",
       "      <td>105.852338</td>\n",
       "    </tr>\n",
       "    <tr>\n",
       "      <th>4</th>\n",
       "      <td>Bạc Liêu</td>\n",
       "      <td>240</td>\n",
       "      <td>9.0</td>\n",
       "      <td>0</td>\n",
       "      <td>2669</td>\n",
       "      <td>917734</td>\n",
       "      <td>9.281929</td>\n",
       "      <td>105.755530</td>\n",
       "    </tr>\n",
       "  </tbody>\n",
       "</table>\n",
       "</div>"
      ],
      "text/plain": [
       "             Tỉnh/TP  Tổng số ca  Hôm nay  Tử vong  Diện tích (km²)  \\\n",
       "0           An Giang        2373     88.0        4             3536   \n",
       "1  Bà Rịa - Vũng Tàu        3869     22.0       32             1980   \n",
       "2          Bắc Giang         588      1.0       13             3851   \n",
       "3            Bắc Kạn           7      0.0        0             4860   \n",
       "4           Bạc Liêu         240      9.0        0             2669   \n",
       "\n",
       "   Dân số (người)      Vĩ độ     Kinh độ  \n",
       "0         1864651  10.507203  105.117695  \n",
       "1         1181302  10.483384  107.124514  \n",
       "2         1858540  21.281595  106.200434  \n",
       "3          318083  22.421294  105.852338  \n",
       "4          917734   9.281929  105.755530  "
      ]
     },
     "execution_count": 3,
     "metadata": {},
     "output_type": "execute_result"
    }
   ],
   "source": [
    "data.head()"
   ]
  },
  {
   "cell_type": "code",
   "execution_count": 4,
   "id": "b5651f32",
   "metadata": {},
   "outputs": [
    {
     "data": {
      "text/plain": [
       "Tỉnh/TP             object\n",
       "Tổng số ca           int64\n",
       "Hôm nay            float64\n",
       "Tử vong              int64\n",
       "Diện tích (km²)      int64\n",
       "Dân số (người)       int64\n",
       "Vĩ độ              float64\n",
       "Kinh độ            float64\n",
       "dtype: object"
      ]
     },
     "execution_count": 4,
     "metadata": {},
     "output_type": "execute_result"
    }
   ],
   "source": [
    "data.dtypes"
   ]
  },
  {
   "cell_type": "code",
   "execution_count": 5,
   "id": "bafddf64",
   "metadata": {},
   "outputs": [],
   "source": [
    "data['Tử vong']=data['Tử vong'].astype(int)\n",
    "data['Hôm nay']=data['Hôm nay'].astype(int)\n",
    "data['Dân số (người)']=data['Dân số (người)'].astype(int)"
   ]
  },
  {
   "cell_type": "markdown",
   "id": "c8f2d1ed",
   "metadata": {},
   "source": [
    "# POPULATION / AREA"
   ]
  },
  {
   "cell_type": "code",
   "execution_count": 6,
   "id": "b6f37304",
   "metadata": {},
   "outputs": [
    {
     "data": {
      "text/plain": [
       "3      318083\n",
       "33     480588\n",
       "13     535098\n",
       "32     565685\n",
       "41     595698\n",
       "       ...   \n",
       "18    3236248\n",
       "39    3417809\n",
       "54    3690022\n",
       "23    8418883\n",
       "57    9411805\n",
       "Name: Dân số (người), Length: 63, dtype: int32"
      ]
     },
     "execution_count": 6,
     "metadata": {},
     "output_type": "execute_result"
    }
   ],
   "source": [
    "data['Dân số (người)'].sort_values()"
   ]
  },
  {
   "cell_type": "code",
   "execution_count": 7,
   "id": "98b4b55c",
   "metadata": {},
   "outputs": [
    {
     "data": {
      "text/plain": [
       "5       822\n",
       "22      860\n",
       "29      930\n",
       "61     1235\n",
       "14     1284\n",
       "      ...  \n",
       "54    11114\n",
       "15    13030\n",
       "50    14123\n",
       "20    15510\n",
       "39    16493\n",
       "Name: Diện tích (km²), Length: 63, dtype: int64"
      ]
     },
     "execution_count": 7,
     "metadata": {},
     "output_type": "execute_result"
    }
   ],
   "source": [
    "data['Diện tích (km²)'].sort_values()"
   ]
  },
  {
   "cell_type": "code",
   "execution_count": 8,
   "id": "7d21802d",
   "metadata": {},
   "outputs": [
    {
     "data": {
      "image/png": "[encoded data removed]",
      "text/plain": [
       "<Figure size 1008x720 with 2 Axes>"
      ]
     },
     "metadata": {},
     "output_type": "display_data"
    }
   ],
   "source": [
    "# Extract info:\n",
    "lon,lat=data['Kinh độ'], data['Vĩ độ']\n",
    "pop,area=data['Dân số (người)'], data['Diện tích (km²)']\n",
    "plt.style.use('seaborn')\n",
    "plt.figure(figsize=(14,10))\n",
    "\n",
    "# Create plot:\n",
    "plt.scatter( lon,lat, \n",
    "            c=pop, cmap='cividis',\n",
    "           s=area/100, linewidths=2 )\n",
    "plt.axis('equal')\n",
    "plt.xlabel('Longitude')\n",
    "plt.ylabel('Latitude')\n",
    "plt.colorbar(label='Population Range')\n",
    "plt.title('Vietnam: Population and Distribution')\n",
    "\n",
    "# Create legend:\n",
    "area_range=[10,50,100,150]\n",
    "for i in area_range:\n",
    "    plt.scatter([], [], s=i, label=str(i)+ 'km$^2$',c='k')\n",
    "plt.legend(labelspacing=1, title=\"Area (thousand/km2)\");"
   ]
  },
  {
   "cell_type": "markdown",
   "id": "ff8203ef",
   "metadata": {},
   "source": [
    "# TOTAL CASES & DEATHS"
   ]
  },
  {
   "cell_type": "code",
   "execution_count": 9,
   "id": "ee23fd86",
   "metadata": {},
   "outputs": [
    {
     "data": {
      "text/html": [
       "<div>\n",
       "<style scoped>\n",
       "    .dataframe tbody tr th:only-of-type {\n",
       "        vertical-align: middle;\n",
       "    }\n",
       "\n",
       "    .dataframe tbody tr th {\n",
       "        vertical-align: top;\n",
       "    }\n",
       "\n",
       "    .dataframe thead th {\n",
       "        text-align: right;\n",
       "    }\n",
       "</style>\n",
       "<table border=\"1\" class=\"dataframe\">\n",
       "  <thead>\n",
       "    <tr style=\"text-align: right;\">\n",
       "      <th></th>\n",
       "      <th>Tỉnh/TP</th>\n",
       "      <th>Tổng số ca</th>\n",
       "      <th>Hôm nay</th>\n",
       "      <th>Tử vong</th>\n",
       "      <th>Diện tích (km²)</th>\n",
       "      <th>Dân số (người)</th>\n",
       "      <th>Vĩ độ</th>\n",
       "      <th>Kinh độ</th>\n",
       "    </tr>\n",
       "  </thead>\n",
       "  <tbody>\n",
       "    <tr>\n",
       "      <th>0</th>\n",
       "      <td>An Giang</td>\n",
       "      <td>2373</td>\n",
       "      <td>88</td>\n",
       "      <td>4</td>\n",
       "      <td>3536</td>\n",
       "      <td>1864651</td>\n",
       "      <td>10.507203</td>\n",
       "      <td>105.117695</td>\n",
       "    </tr>\n",
       "    <tr>\n",
       "      <th>1</th>\n",
       "      <td>Bà Rịa - Vũng Tàu</td>\n",
       "      <td>3869</td>\n",
       "      <td>22</td>\n",
       "      <td>32</td>\n",
       "      <td>1980</td>\n",
       "      <td>1181302</td>\n",
       "      <td>10.483384</td>\n",
       "      <td>107.124514</td>\n",
       "    </tr>\n",
       "    <tr>\n",
       "      <th>2</th>\n",
       "      <td>Bắc Giang</td>\n",
       "      <td>588</td>\n",
       "      <td>1</td>\n",
       "      <td>13</td>\n",
       "      <td>3851</td>\n",
       "      <td>1858540</td>\n",
       "      <td>21.281595</td>\n",
       "      <td>106.200434</td>\n",
       "    </tr>\n",
       "    <tr>\n",
       "      <th>3</th>\n",
       "      <td>Bắc Kạn</td>\n",
       "      <td>7</td>\n",
       "      <td>0</td>\n",
       "      <td>0</td>\n",
       "      <td>4860</td>\n",
       "      <td>318083</td>\n",
       "      <td>22.421294</td>\n",
       "      <td>105.852338</td>\n",
       "    </tr>\n",
       "    <tr>\n",
       "      <th>4</th>\n",
       "      <td>Bạc Liêu</td>\n",
       "      <td>240</td>\n",
       "      <td>9</td>\n",
       "      <td>0</td>\n",
       "      <td>2669</td>\n",
       "      <td>917734</td>\n",
       "      <td>9.281929</td>\n",
       "      <td>105.755530</td>\n",
       "    </tr>\n",
       "  </tbody>\n",
       "</table>\n",
       "</div>"
      ],
      "text/plain": [
       "             Tỉnh/TP  Tổng số ca  Hôm nay  Tử vong  Diện tích (km²)  \\\n",
       "0           An Giang        2373       88        4             3536   \n",
       "1  Bà Rịa - Vũng Tàu        3869       22       32             1980   \n",
       "2          Bắc Giang         588        1       13             3851   \n",
       "3            Bắc Kạn           7        0        0             4860   \n",
       "4           Bạc Liêu         240        9        0             2669   \n",
       "\n",
       "   Dân số (người)      Vĩ độ     Kinh độ  \n",
       "0         1864651  10.507203  105.117695  \n",
       "1         1181302  10.483384  107.124514  \n",
       "2         1858540  21.281595  106.200434  \n",
       "3          318083  22.421294  105.852338  \n",
       "4          917734   9.281929  105.755530  "
      ]
     },
     "execution_count": 9,
     "metadata": {},
     "output_type": "execute_result"
    }
   ],
   "source": [
    "data.head()"
   ]
  },
  {
   "cell_type": "code",
   "execution_count": 10,
   "id": "57583c52",
   "metadata": {},
   "outputs": [
    {
     "data": {
      "image/png": "[encoded data removed]",
      "text/plain": [
       "<Figure size 864x648 with 2 Axes>"
      ]
     },
     "metadata": {},
     "output_type": "display_data"
    }
   ],
   "source": [
    "# Extract info:\n",
    "lon,lat=data['Kinh độ'], data['Vĩ độ']\n",
    "case,death=data['Tổng số ca'], data['Tử vong']\n",
    "plt.style.use('seaborn')\n",
    "plt.figure(figsize=(12,9))\n",
    "\n",
    "# Create plot:\n",
    "plt.scatter( lon,lat, \n",
    "            c=np.sqrt(death), cmap='viridis',\n",
    "           s=np.sqrt(case), linewidths=2 )\n",
    "plt.axis('equal')\n",
    "plt.xlabel('Kinh độ')\n",
    "plt.ylabel('Vĩ độ')\n",
    "plt.colorbar(label='Death')\n",
    "plt.title('Vietnam Covid-19 Cases and Deaths')\n",
    "\n",
    "#Create legend:\n",
    "area_range=[10,100,300,500]\n",
    "for i in area_range:\n",
    "    plt.scatter([], [], s=i, label=str(i)+'cases',c='k')\n",
    "plt.legend(labelspacing=1.5, title=\"Case Levels (sqrt.case)\");"
   ]
  },
  {
   "cell_type": "code",
   "execution_count": 12,
   "id": "9f62e5c6",
   "metadata": {},
   "outputs": [
    {
     "data": {
      "image/png": "[encoded data removed]",
      "text/plain": [
       "<Figure size 576x396 with 1 Axes>"
      ]
     },
     "metadata": {},
     "output_type": "display_data"
    }
   ],
   "source": [
    "plt.hist(case);"
   ]
  },
  {
   "cell_type": "code",
   "execution_count": 14,
   "id": "4beaaca9",
   "metadata": {},
   "outputs": [
    {
     "data": {
      "image/png": "[encoded data removed]",
      "text/plain": [
       "<Figure size 576x396 with 1 Axes>"
      ]
     },
     "metadata": {},
     "output_type": "display_data"
    }
   ],
   "source": [
    "plt.hist(death);"
   ]
  },
  {
   "cell_type": "code",
   "execution_count": 17,
   "id": "f2102738",
   "metadata": {},
   "outputs": [
    {
     "data": {
      "text/plain": [
       "212.46031746031747"
      ]
     },
     "execution_count": 17,
     "metadata": {},
     "output_type": "execute_result"
    }
   ],
   "source": [
    "death.mean()"
   ]
  },
  {
   "cell_type": "code",
   "execution_count": 18,
   "id": "03a2ae5a",
   "metadata": {},
   "outputs": [
    {
     "data": {
      "text/plain": [
       "8334.317460317461"
      ]
     },
     "execution_count": 18,
     "metadata": {},
     "output_type": "execute_result"
    }
   ],
   "source": [
    "case.mean()"
   ]
  },
  {
   "cell_type": "code",
   "execution_count": null,
   "id": "4d2fc311",
   "metadata": {},
   "outputs": [],
   "source": []
  },
  {
   "cell_type": "code",
   "execution_count": null,
   "id": "66fba027",
   "metadata": {},
   "outputs": [],
   "source": []
  },
  {
   "cell_type": "code",
   "execution_count": null,
   "id": "2234324d",
   "metadata": {},
   "outputs": [],
   "source": []
  },
  {
   "cell_type": "code",
   "execution_count": null,
   "id": "0f743ce4",
   "metadata": {},
   "outputs": [],
   "source": []
  },
  {
   "cell_type": "code",
   "execution_count": null,
   "id": "6fa77918",
   "metadata": {},
   "outputs": [],
   "source": []
  },
  {
   "cell_type": "code",
   "execution_count": null,
   "id": "1303ffb5",
   "metadata": {},
   "outputs": [],
   "source": []
  },
  {
   "cell_type": "code",
   "execution_count": null,
   "id": "04425552",
   "metadata": {},
   "outputs": [],
   "source": []
  },
  {
   "cell_type": "code",
   "execution_count": null,
   "id": "9da5b782",
   "metadata": {},
   "outputs": [],
   "source": []
  },
  {
   "cell_type": "code",
   "execution_count": null,
   "id": "f8ee84b6",
   "metadata": {},
   "outputs": [],
   "source": []
  },
  {
   "cell_type": "code",
   "execution_count": null,
   "id": "e628e360",
   "metadata": {},
   "outputs": [],
   "source": []
  },
  {
   "cell_type": "code",
   "execution_count": null,
   "id": "999ee981",
   "metadata": {},
   "outputs": [],
   "source": []
  },
  {
   "cell_type": "code",
   "execution_count": null,
   "id": "556562ae",
   "metadata": {},
   "outputs": [],
   "source": []
  },
  {
   "cell_type": "code",
   "execution_count": null,
   "id": "2e383f63",
   "metadata": {},
   "outputs": [],
   "source": []
  },
  {
   "cell_type": "code",
   "execution_count": null,
   "id": "87c7cc1d",
   "metadata": {},
   "outputs": [],
   "source": []
  },
  {
   "cell_type": "code",
   "execution_count": null,
   "id": "e4a8b1d1",
   "metadata": {},
   "outputs": [],
   "source": []
  },
  {
   "cell_type": "code",
   "execution_count": null,
   "id": "8925ad55",
   "metadata": {},
   "outputs": [],
   "source": []
  },
  {
   "cell_type": "code",
   "execution_count": null,
   "id": "6bc8e35a",
   "metadata": {},
   "outputs": [],
   "source": []
  },
  {
   "cell_type": "code",
   "execution_count": null,
   "id": "e21289f8",
   "metadata": {},
   "outputs": [],
   "source": []
  },
  {
   "cell_type": "code",
   "execution_count": null,
   "id": "c119c69f",
   "metadata": {},
   "outputs": [],
   "source": []
  },
  {
   "cell_type": "code",
   "execution_count": null,
   "id": "06378175",
   "metadata": {},
   "outputs": [],
   "source": []
  },
  {
   "cell_type": "code",
   "execution_count": null,
   "id": "3fcaa571",
   "metadata": {},
   "outputs": [],
   "source": []
  },
  {
   "cell_type": "code",
   "execution_count": null,
   "id": "dc299349",
   "metadata": {},
   "outputs": [],
   "source": []
  },
  {
   "cell_type": "code",
   "execution_count": null,
   "id": "4f8d0672",
   "metadata": {},
   "outputs": [],
   "source": []
  }
 ],
 "metadata": {
  "kernelspec": {
   "display_name": "Python 3",
   "language": "python",
   "name": "python3"
  },
  "language_info": {
   "codemirror_mode": {
    "name": "ipython",
    "version": 3
   },
   "file_extension": ".py",
   "mimetype": "text/x-python",
   "name": "python",
   "nbconvert_exporter": "python",
   "pygments_lexer": "ipython3",
   "version": "3.8.8"
  }
 },
 "nbformat": 4,
 "nbformat_minor": 5
}
