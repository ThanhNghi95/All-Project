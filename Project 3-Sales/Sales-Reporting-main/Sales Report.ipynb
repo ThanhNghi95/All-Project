{
 "cells": [
  {
   "cell_type": "code",
   "execution_count": 1,
   "id": "40d6d1d7",
   "metadata": {},
   "outputs": [],
   "source": [
    "import pandas as pd\n",
    "import os\n",
    "import matplotlib.pyplot as plt"
   ]
  },
  {
   "cell_type": "code",
   "execution_count": 23,
   "id": "bd85d66b",
   "metadata": {},
   "outputs": [],
   "source": [
    "path='C:/Users/dell/Desktop/Project/My project/Project 3-Sales/Sales-Reporting-main/data/'\n",
    "frame=[]    \n",
    "for file in os.listdir(path):\n",
    "    if file.endswith('.csv'):\n",
    "        filepath=path+file\n",
    "        df1=pd.read_csv(filepath)\n",
    "        frame.append(df1)\n",
    "        result=pd.concat(frame)"
   ]
  },
  {
   "cell_type": "code",
   "execution_count": 22,
   "id": "0713fa87",
   "metadata": {},
   "outputs": [],
   "source": [
    "result.to_csv('C:/Users/dell/Desktop/Project/My project/Project 3-Sales/Sales-Reporting-main/data/AnnualSales.csv',index=False)"
   ]
  },
  {
   "cell_type": "code",
   "execution_count": 24,
   "id": "b8d16e82",
   "metadata": {},
   "outputs": [],
   "source": [
    "data=pd.read_csv('C:/Users/dell/Desktop/Project/My project/Project 3-Sales/Sales-Reporting-main/data/AnnualSales.csv')"
   ]
  },
  {
   "cell_type": "code",
   "execution_count": 83,
   "id": "e330400d",
   "metadata": {},
   "outputs": [
    {
     "data": {
      "text/html": [
       "<div>\n",
       "<style scoped>\n",
       "    .dataframe tbody tr th:only-of-type {\n",
       "        vertical-align: middle;\n",
       "    }\n",
       "\n",
       "    .dataframe tbody tr th {\n",
       "        vertical-align: top;\n",
       "    }\n",
       "\n",
       "    .dataframe thead th {\n",
       "        text-align: right;\n",
       "    }\n",
       "</style>\n",
       "<table border=\"1\" class=\"dataframe\">\n",
       "  <thead>\n",
       "    <tr style=\"text-align: right;\">\n",
       "      <th></th>\n",
       "      <th>Order ID</th>\n",
       "      <th>Product</th>\n",
       "      <th>Quantity Ordered</th>\n",
       "      <th>Price Each</th>\n",
       "      <th>Sales</th>\n",
       "      <th>Order Date</th>\n",
       "      <th>Purchase Address</th>\n",
       "      <th>Month</th>\n",
       "      <th>City</th>\n",
       "      <th>Hour</th>\n",
       "    </tr>\n",
       "  </thead>\n",
       "  <tbody>\n",
       "    <tr>\n",
       "      <th>0</th>\n",
       "      <td>141234</td>\n",
       "      <td>iPhone</td>\n",
       "      <td>1</td>\n",
       "      <td>700.00</td>\n",
       "      <td>700.00</td>\n",
       "      <td>2019-01-22 21:25:00</td>\n",
       "      <td>944 Walnut St, Boston, MA 02215</td>\n",
       "      <td>01</td>\n",
       "      <td>Boston</td>\n",
       "      <td>21</td>\n",
       "    </tr>\n",
       "    <tr>\n",
       "      <th>1</th>\n",
       "      <td>141235</td>\n",
       "      <td>Lightning Charging Cable</td>\n",
       "      <td>1</td>\n",
       "      <td>14.95</td>\n",
       "      <td>14.95</td>\n",
       "      <td>2019-01-28 14:15:00</td>\n",
       "      <td>185 Maple St, Portland, OR 97035</td>\n",
       "      <td>01</td>\n",
       "      <td>Portland</td>\n",
       "      <td>14</td>\n",
       "    </tr>\n",
       "    <tr>\n",
       "      <th>2</th>\n",
       "      <td>141236</td>\n",
       "      <td>Wired Headphones</td>\n",
       "      <td>2</td>\n",
       "      <td>11.99</td>\n",
       "      <td>23.98</td>\n",
       "      <td>2019-01-17 13:33:00</td>\n",
       "      <td>538 Adams St, San Francisco, CA 94016</td>\n",
       "      <td>01</td>\n",
       "      <td>San Francisco</td>\n",
       "      <td>13</td>\n",
       "    </tr>\n",
       "    <tr>\n",
       "      <th>3</th>\n",
       "      <td>141237</td>\n",
       "      <td>27in FHD Monitor</td>\n",
       "      <td>1</td>\n",
       "      <td>149.99</td>\n",
       "      <td>149.99</td>\n",
       "      <td>2019-01-05 20:33:00</td>\n",
       "      <td>738 10th St, Los Angeles, CA 90001</td>\n",
       "      <td>01</td>\n",
       "      <td>Los Angeles</td>\n",
       "      <td>20</td>\n",
       "    </tr>\n",
       "    <tr>\n",
       "      <th>4</th>\n",
       "      <td>141238</td>\n",
       "      <td>Wired Headphones</td>\n",
       "      <td>1</td>\n",
       "      <td>11.99</td>\n",
       "      <td>11.99</td>\n",
       "      <td>2019-01-25 11:59:00</td>\n",
       "      <td>387 10th St, Austin, TX 73301</td>\n",
       "      <td>01</td>\n",
       "      <td>Austin</td>\n",
       "      <td>11</td>\n",
       "    </tr>\n",
       "  </tbody>\n",
       "</table>\n",
       "</div>"
      ],
      "text/plain": [
       "  Order ID                   Product  Quantity Ordered  Price Each   Sales  \\\n",
       "0   141234                    iPhone                 1      700.00  700.00   \n",
       "1   141235  Lightning Charging Cable                 1       14.95   14.95   \n",
       "2   141236          Wired Headphones                 2       11.99   23.98   \n",
       "3   141237          27in FHD Monitor                 1      149.99  149.99   \n",
       "4   141238          Wired Headphones                 1       11.99   11.99   \n",
       "\n",
       "           Order Date                       Purchase Address Month  \\\n",
       "0 2019-01-22 21:25:00        944 Walnut St, Boston, MA 02215    01   \n",
       "1 2019-01-28 14:15:00       185 Maple St, Portland, OR 97035    01   \n",
       "2 2019-01-17 13:33:00  538 Adams St, San Francisco, CA 94016    01   \n",
       "3 2019-01-05 20:33:00     738 10th St, Los Angeles, CA 90001    01   \n",
       "4 2019-01-25 11:59:00          387 10th St, Austin, TX 73301    01   \n",
       "\n",
       "             City  Hour  \n",
       "0          Boston    21  \n",
       "1        Portland    14  \n",
       "2   San Francisco    13  \n",
       "3     Los Angeles    20  \n",
       "4          Austin    11  "
      ]
     },
     "execution_count": 83,
     "metadata": {},
     "output_type": "execute_result"
    }
   ],
   "source": [
    "data.head()"
   ]
  },
  {
   "cell_type": "code",
   "execution_count": 43,
   "id": "a78b163d",
   "metadata": {},
   "outputs": [
    {
     "name": "stdout",
     "output_type": "stream",
     "text": [
      "<class 'pandas.core.frame.DataFrame'>\n",
      "Int64Index: 185950 entries, 0 to 186849\n",
      "Data columns (total 8 columns):\n",
      " #   Column            Non-Null Count   Dtype  \n",
      "---  ------            --------------   -----  \n",
      " 0   Order ID          185950 non-null  object \n",
      " 1   Product           185950 non-null  object \n",
      " 2   Quantity Ordered  185950 non-null  int64  \n",
      " 3   Price Each        185950 non-null  float64\n",
      " 4   Order Date        185950 non-null  object \n",
      " 5   Purchase Address  185950 non-null  object \n",
      " 6   Month             185950 non-null  object \n",
      " 7   Sales             185950 non-null  float64\n",
      "dtypes: float64(2), int64(1), object(5)\n",
      "memory usage: 12.8+ MB\n"
     ]
    }
   ],
   "source": [
    "data.info()"
   ]
  },
  {
   "cell_type": "code",
   "execution_count": 28,
   "id": "44476812",
   "metadata": {},
   "outputs": [],
   "source": [
    "data['Month']=data['Order Date'].str[0:2]"
   ]
  },
  {
   "cell_type": "code",
   "execution_count": 35,
   "id": "b68ccb98",
   "metadata": {},
   "outputs": [
    {
     "data": {
      "text/plain": [
       "array(['01', 'Or', '02', '10', '11', '12', '03', '04', '05', '06', '07',\n",
       "       '08', '09'], dtype=object)"
      ]
     },
     "execution_count": 35,
     "metadata": {},
     "output_type": "execute_result"
    }
   ],
   "source": [
    "data['Month'].unique()"
   ]
  },
  {
   "cell_type": "code",
   "execution_count": 32,
   "id": "a45ad82e",
   "metadata": {},
   "outputs": [],
   "source": [
    "data=data.dropna(how='all')"
   ]
  },
  {
   "cell_type": "code",
   "execution_count": 36,
   "id": "8fd679f8",
   "metadata": {},
   "outputs": [],
   "source": [
    "data=data[data['Month']!='Or']"
   ]
  },
  {
   "cell_type": "markdown",
   "id": "3c5eda45",
   "metadata": {},
   "source": [
    "### Reporting:"
   ]
  },
  {
   "cell_type": "markdown",
   "id": "3f971418",
   "metadata": {},
   "source": [
    "#### 1/ What was the best month for sales? How much was earned that month?"
   ]
  },
  {
   "cell_type": "code",
   "execution_count": 39,
   "id": "868dd5ae",
   "metadata": {},
   "outputs": [],
   "source": [
    "data['Quantity Ordered']=pd.to_numeric(data['Quantity Ordered'])\n",
    "data['Price Each']=pd.to_numeric(data['Price Each'])"
   ]
  },
  {
   "cell_type": "code",
   "execution_count": 41,
   "id": "21db1bcb",
   "metadata": {},
   "outputs": [],
   "source": [
    "data['Sales']=data['Quantity Ordered']*data['Price Each']"
   ]
  },
  {
   "cell_type": "code",
   "execution_count": 44,
   "id": "c7095992",
   "metadata": {},
   "outputs": [],
   "source": [
    "moving_column=data.pop('Sales')"
   ]
  },
  {
   "cell_type": "code",
   "execution_count": 45,
   "id": "73a02acb",
   "metadata": {},
   "outputs": [],
   "source": [
    "data.insert(4,'Sales',moving_column)"
   ]
  },
  {
   "cell_type": "code",
   "execution_count": 59,
   "id": "8151056e",
   "metadata": {},
   "outputs": [],
   "source": [
    "sales_value=data.groupby('Month').sum()['Sales']"
   ]
  },
  {
   "cell_type": "code",
   "execution_count": 63,
   "id": "20f8a13e",
   "metadata": {},
   "outputs": [
    {
     "data": {
      "image/png": "[encoded data removed]",
      "text/plain": [
       "<Figure size 432x288 with 1 Axes>"
      ]
     },
     "metadata": {
      "needs_background": "light"
     },
     "output_type": "display_data"
    }
   ],
   "source": [
    "plt.bar(x=sales_value.index,height=sales_value.values)\n",
    "plt.xlabel('Month')\n",
    "plt.ylabel('Sales in USD')\n",
    "plt.show();"
   ]
  },
  {
   "cell_type": "markdown",
   "id": "552aef56",
   "metadata": {},
   "source": [
    "#### 2: What city has the best sales?"
   ]
  },
  {
   "cell_type": "code",
   "execution_count": 65,
   "id": "cadff559",
   "metadata": {},
   "outputs": [],
   "source": [
    "data['City']=data['Purchase Address'].apply(lambda x:x.split(',')[1] )"
   ]
  },
  {
   "cell_type": "code",
   "execution_count": 67,
   "id": "938b50e8",
   "metadata": {},
   "outputs": [
    {
     "data": {
      "text/plain": [
       "array([' Boston', ' Portland', ' San Francisco', ' Los Angeles',\n",
       "       ' Austin', ' Atlanta', ' Seattle', ' New York City', ' Dallas'],\n",
       "      dtype=object)"
      ]
     },
     "execution_count": 67,
     "metadata": {},
     "output_type": "execute_result"
    }
   ],
   "source": [
    "data['City'].unique()"
   ]
  },
  {
   "cell_type": "code",
   "execution_count": 71,
   "id": "49a3ce63",
   "metadata": {},
   "outputs": [],
   "source": [
    "city_sale=data.groupby('City').sum()['Sales']"
   ]
  },
  {
   "cell_type": "code",
   "execution_count": 74,
   "id": "ba11d85b",
   "metadata": {},
   "outputs": [
    {
     "data": {
      "image/png": "[encoded data removed]",
      "text/plain": [
       "<Figure size 432x288 with 1 Axes>"
      ]
     },
     "metadata": {
      "needs_background": "light"
     },
     "output_type": "display_data"
    }
   ],
   "source": [
    "plt.bar(x=city_sale.index,height=city_sale.values)\n",
    "plt.xticks(city_sale.index,rotation=90)\n",
    "plt.xlabel('City')\n",
    "plt.ylabel('Sales')\n",
    "plt.show();"
   ]
  },
  {
   "cell_type": "markdown",
   "id": "c9c1249e",
   "metadata": {},
   "source": [
    "#### 3: What time should we display ads to maximize the likelihood of customer’s buying product?"
   ]
  },
  {
   "cell_type": "code",
   "execution_count": 76,
   "id": "aa7cdd93",
   "metadata": {},
   "outputs": [],
   "source": [
    "data['Order Date']=pd.to_datetime(data['Order Date'])"
   ]
  },
  {
   "cell_type": "code",
   "execution_count": 77,
   "id": "4e1bad00",
   "metadata": {},
   "outputs": [
    {
     "data": {
      "text/plain": [
       "0        2019-01-22 21:25:00\n",
       "1        2019-01-28 14:15:00\n",
       "2        2019-01-17 13:33:00\n",
       "3        2019-01-05 20:33:00\n",
       "4        2019-01-25 11:59:00\n",
       "                 ...        \n",
       "186845   2019-09-17 20:56:00\n",
       "186846   2019-09-01 16:00:00\n",
       "186847   2019-09-23 07:39:00\n",
       "186848   2019-09-19 17:30:00\n",
       "186849   2019-09-30 00:18:00\n",
       "Name: Order Date, Length: 185950, dtype: datetime64[ns]"
      ]
     },
     "execution_count": 77,
     "metadata": {},
     "output_type": "execute_result"
    }
   ],
   "source": [
    "data['Order Date']"
   ]
  },
  {
   "cell_type": "code",
   "execution_count": 82,
   "id": "aadf469a",
   "metadata": {},
   "outputs": [],
   "source": [
    "data['Hour']=data['Order Date'].dt.hour"
   ]
  },
  {
   "cell_type": "code",
   "execution_count": 91,
   "id": "6f38874e",
   "metadata": {},
   "outputs": [],
   "source": [
    "hour_sale=data.groupby('Hour').count()['Sales']"
   ]
  },
  {
   "cell_type": "code",
   "execution_count": 92,
   "id": "ec2d3895",
   "metadata": {},
   "outputs": [
    {
     "data": {
      "image/png": "[encoded data removed]",
      "text/plain": [
       "<Figure size 432x288 with 1 Axes>"
      ]
     },
     "metadata": {
      "needs_background": "light"
     },
     "output_type": "display_data"
    }
   ],
   "source": [
    "plt.plot(hour_sale.index,hour_sale.values)\n",
    "plt.grid()\n",
    "plt.xticks(hour_sale.index,rotation=90,size=8)\n",
    "plt.xlabel('Hours')\n",
    "plt.xlabel('Sales')\n",
    "plt.show();"
   ]
  },
  {
   "cell_type": "markdown",
   "id": "b4e3ac6f",
   "metadata": {},
   "source": [
    "### 4: What products are most often sold together?"
   ]
  },
  {
   "cell_type": "code",
   "execution_count": 101,
   "id": "7328a640",
   "metadata": {},
   "outputs": [],
   "source": [
    "data['Quantity Ordered']=pd.to_numeric(data['Quantity Ordered'])"
   ]
  },
  {
   "cell_type": "code",
   "execution_count": 111,
   "id": "85048204",
   "metadata": {},
   "outputs": [],
   "source": [
    "product_quantity=data.groupby('Product').count()['Quantity Ordered']"
   ]
  },
  {
   "cell_type": "code",
   "execution_count": 112,
   "id": "ad4b7226",
   "metadata": {},
   "outputs": [
    {
     "data": {
      "image/png": "[encoded data removed]",
      "text/plain": [
       "<Figure size 432x288 with 1 Axes>"
      ]
     },
     "metadata": {
      "needs_background": "light"
     },
     "output_type": "display_data"
    }
   ],
   "source": [
    "plt.bar(x=product_quantity.index,height=product_quantity.values)\n",
    "plt.xticks(product_quantity.index,rotation=90)\n",
    "plt.xlabel('Products')\n",
    "plt.ylabel('Quantity')\n",
    "plt.show();"
   ]
  },
  {
   "cell_type": "markdown",
   "id": "8d4b7a00",
   "metadata": {},
   "source": [
    "#### 5: What product sold the most? Why do you think it sold the most?"
   ]
  },
  {
   "cell_type": "code",
   "execution_count": 114,
   "id": "8d9b0f1c",
   "metadata": {},
   "outputs": [
    {
     "data": {
      "text/plain": [
       "Product\n",
       "20in Monitor                   109.99\n",
       "27in 4K Gaming Monitor         389.99\n",
       "27in FHD Monitor               149.99\n",
       "34in Ultrawide Monitor         379.99\n",
       "AA Batteries (4-pack)            3.84\n",
       "AAA Batteries (4-pack)           2.99\n",
       "Apple Airpods Headphones       150.00\n",
       "Bose SoundSport Headphones      99.99\n",
       "Flatscreen TV                  300.00\n",
       "Google Phone                   600.00\n",
       "LG Dryer                       600.00\n",
       "LG Washing Machine             600.00\n",
       "Lightning Charging Cable        14.95\n",
       "Macbook Pro Laptop            1700.00\n",
       "ThinkPad Laptop                999.99\n",
       "USB-C Charging Cable            11.95\n",
       "Vareebadd Phone                400.00\n",
       "Wired Headphones                11.99\n",
       "iPhone                         700.00\n",
       "Name: Price Each, dtype: float64"
      ]
     },
     "execution_count": 114,
     "metadata": {},
     "output_type": "execute_result"
    }
   ],
   "source": [
    "prices = data.groupby('Product').mean()['Price Each']\n",
    "prices"
   ]
  },
  {
   "cell_type": "code",
   "execution_count": 115,
   "id": "26533b6b",
   "metadata": {},
   "outputs": [
    {
     "name": "stderr",
     "output_type": "stream",
     "text": [
      "<ipython-input-115-a570ea953557>:7: UserWarning: FixedFormatter should only be used together with FixedLocator\n",
      "  ax1.set_xticklabels(prices.index, rotation=90, size=8)\n"
     ]
    },
    {
     "data": {
      "image/png": "[encoded data removed]",
      "text/plain": [
       "<Figure size 432x288 with 2 Axes>"
      ]
     },
     "metadata": {
      "needs_background": "light"
     },
     "output_type": "display_data"
    }
   ],
   "source": [
    "fig,ax1=plt.subplots()\n",
    "\n",
    "ax2=ax1.twinx()\n",
    "ax1.bar(prices.index,product_quantity.values,color='g')\n",
    "ax2.plot(prices.index,prices.values,'b-')\n",
    "\n",
    "ax1.set_xticklabels(prices.index, rotation=90, size=8)\n",
    "ax1.set_xlabel('Products')\n",
    "ax1.set_ylabel('Quantity Ordered', color='g')\n",
    "ax2.set_ylabel('Price Each', color='b')\n",
    "\n",
    "plt.show()"
   ]
  },
  {
   "cell_type": "code",
   "execution_count": null,
   "id": "9189392c",
   "metadata": {},
   "outputs": [],
   "source": []
  },
  {
   "cell_type": "code",
   "execution_count": null,
   "id": "ede52ab0",
   "metadata": {},
   "outputs": [],
   "source": []
  },
  {
   "cell_type": "code",
   "execution_count": null,
   "id": "f80d75d9",
   "metadata": {},
   "outputs": [],
   "source": []
  },
  {
   "cell_type": "code",
   "execution_count": null,
   "id": "7e8428a4",
   "metadata": {},
   "outputs": [],
   "source": []
  },
  {
   "cell_type": "code",
   "execution_count": null,
   "id": "9569c384",
   "metadata": {},
   "outputs": [],
   "source": []
  },
  {
   "cell_type": "code",
   "execution_count": null,
   "id": "3f0ae222",
   "metadata": {},
   "outputs": [],
   "source": []
  },
  {
   "cell_type": "code",
   "execution_count": null,
   "id": "807c5a0d",
   "metadata": {},
   "outputs": [],
   "source": []
  },
  {
   "cell_type": "code",
   "execution_count": null,
   "id": "37734ba8",
   "metadata": {},
   "outputs": [],
   "source": []
  },
  {
   "cell_type": "code",
   "execution_count": null,
   "id": "6cfcb454",
   "metadata": {},
   "outputs": [],
   "source": []
  },
  {
   "cell_type": "code",
   "execution_count": null,
   "id": "dcef41ed",
   "metadata": {},
   "outputs": [],
   "source": []
  },
  {
   "cell_type": "code",
   "execution_count": null,
   "id": "54af8485",
   "metadata": {},
   "outputs": [],
   "source": []
  },
  {
   "cell_type": "code",
   "execution_count": null,
   "id": "6cefabe0",
   "metadata": {},
   "outputs": [],
   "source": []
  },
  {
   "cell_type": "code",
   "execution_count": null,
   "id": "ff4ba638",
   "metadata": {},
   "outputs": [],
   "source": []
  },
  {
   "cell_type": "code",
   "execution_count": null,
   "id": "d773a357",
   "metadata": {},
   "outputs": [],
   "source": []
  },
  {
   "cell_type": "code",
   "execution_count": null,
   "id": "7d2fb484",
   "metadata": {},
   "outputs": [],
   "source": []
  }
 ],
 "metadata": {
  "kernelspec": {
   "display_name": "Python 3",
   "language": "python",
   "name": "python3"
  },
  "language_info": {
   "codemirror_mode": {
    "name": "ipython",
    "version": 3
   },
   "file_extension": ".py",
   "mimetype": "text/x-python",
   "name": "python",
   "nbconvert_exporter": "python",
   "pygments_lexer": "ipython3",
   "version": "3.8.8"
  }
 },
 "nbformat": 4,
 "nbformat_minor": 5
}
